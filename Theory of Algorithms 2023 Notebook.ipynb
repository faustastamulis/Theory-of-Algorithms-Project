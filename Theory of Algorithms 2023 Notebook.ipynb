{
 "cells": [
  {
   "cell_type": "markdown",
   "id": "7f2ed0b6",
   "metadata": {},
   "source": [
    "# Theory of Algorithms 2023 Project"
   ]
  },
  {
   "cell_type": "markdown",
   "id": "62aa414c",
   "metadata": {},
   "source": [
    "## Part 1.) Description of Polynomial Time Complexity Class (P)"
   ]
  },
  {
   "cell_type": "markdown",
   "id": "6561c08e",
   "metadata": {},
   "source": [
    "The set of decision problems that can be solved by a deterministic Turing computer in polynomial time, or where the running time of the algorithm is constrained by a polynomial function of the input size, is known as the Polynomial Time Complexity Class, or P, in computational complexity theory."
   ]
  },
  {
   "cell_type": "markdown",
   "id": "1d28811d",
   "metadata": {},
   "source": [
    "## Part 2.) Problems with P"
   ]
  },
  {
   "cell_type": "markdown",
   "id": "12cf01fa",
   "metadata": {},
   "source": [
    "Some examples of problems in P are:\n",
    "\n",
    "- Determining whether a given integer is prime\n",
    "- Finding the shortest path between two nodes in a graph\n",
    "- Sorting a list of integers\n",
    "- Checking whether a given Boolean formula is satisfiable"
   ]
  },
  {
   "cell_type": "markdown",
   "id": "ff181f92",
   "metadata": {},
   "source": [
    "## Part 3.) Relationship with NP"
   ]
  },
  {
   "cell_type": "markdown",
   "id": "ed633afc",
   "metadata": {},
   "source": [
    "The complexity class P and the NP, a significant complexity class, are closely related (Nondeterministic Polynomial time). There is a polynomial time verifier for the collection of decision problems known as NP, which can be solved by a nondeterministic Turing machine in polynomial time.\n",
    "\n",
    "An algorithm known as a polynomial time verifier examines a potential solution to a problem to determine its validity. There is a polynomial time verifier that can check a putative solution in polynomial time if the problem is in NP.\n",
    "\n",
    "One of the most important unsolved issues in mathematics and computer science is the link between P and NP. If every problem in NP can be solved in polynomial time by a deterministic algorithm, then the question is whether P is equal to NP. Every issue for which a proposed solution can be verified in polynomial time can also be resolved in polynomial time if P and NP are equivalent. Therefore, if P is not equal to NP, then deterministic algorithms cannot solve any NP-complete problems in polynomial time.\n",
    "\n",
    "No one has been able to demonstrate either that P is not equal to NP or that P is equal to NP despite decades of research.It has ramifications for many fields, including cryptography, optimization, and machine learning, and is regarded as one of the most significant open issues in computer science and mathematics."
   ]
  },
  {
   "cell_type": "markdown",
   "id": "5a125843",
   "metadata": {},
   "source": [
    "## Part 4.) Differences between P and NP"
   ]
  },
  {
   "cell_type": "markdown",
   "id": "035613a5",
   "metadata": {},
   "source": [
    "The types of issues they represent and the computer resources necessary to solve them are the primary distinctions between the complexity classes P and NP. These are some significant variations between P and NP:\n",
    "\n",
    "- Time complexity: Decision problems of the class P can be resolved in polynomial time by a deterministic Turing machine, which means that the algorithm's execution time is constrained by a polynomial function of the input size. While the best known solution for answering choice issues on a deterministic machine requires exponential time, NP includes decision problems that can be solved by a nondeterministic Turing machine in polynomial time.\n",
    "\n",
    "- Verification vs. solution: In NP, a verifier algorithm can check a potential solution in polynomial time. In P, the method generates the answer in polynomial time by itself.\n",
    "\n",
    "- Certificates: Certificates are pieces of information that can be used to confirm that a prospective solution is accurate. They are frequently present in NP problems. The certificate is verified using a polynomial-time technique. P problems don't always have to have certifications.\n",
    "\n",
    "- Complexity hierarchy: The class P is a subset of NP, which indicates that every issue in P is also a problem in NP. It is unclear, nevertheless, whether P is a strict subset of NP or if it is the same as NP.\n",
    "\n",
    "- Practical implications: Many NP-based issues are thought to be computationally intractable, but many P-based problems can be easily solved in practice. For fields like machine learning, optimization, and cryptography, this has significant practical ramifications."
   ]
  }
 ],
 "metadata": {
  "kernelspec": {
   "display_name": "Python 3 (ipykernel)",
   "language": "python",
   "name": "python3"
  },
  "language_info": {
   "codemirror_mode": {
    "name": "ipython",
    "version": 3
   },
   "file_extension": ".py",
   "mimetype": "text/x-python",
   "name": "python",
   "nbconvert_exporter": "python",
   "pygments_lexer": "ipython3",
   "version": "3.10.10"
  }
 },
 "nbformat": 4,
 "nbformat_minor": 5
}
