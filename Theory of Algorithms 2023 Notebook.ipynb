{
 "cells": [
  {
   "cell_type": "markdown",
   "id": "7f2ed0b6",
   "metadata": {},
   "source": [
    "# Theory of Algorithms 2023 Project"
   ]
  },
  {
   "cell_type": "markdown",
   "id": "120b5a30",
   "metadata": {},
   "source": []
  },
  {
   "cell_type": "markdown",
   "id": "62aa414c",
   "metadata": {},
   "source": [
    "## Part 1.) Description of Polynomial Time Complexity Class (P)"
   ]
  },
  {
   "cell_type": "markdown",
   "id": "6561c08e",
   "metadata": {},
   "source": []
  },
  {
   "cell_type": "markdown",
   "id": "1d28811d",
   "metadata": {},
   "source": [
    "## Part 2.) Problems with P"
   ]
  },
  {
   "cell_type": "markdown",
   "id": "12cf01fa",
   "metadata": {},
   "source": []
  },
  {
   "cell_type": "markdown",
   "id": "ff181f92",
   "metadata": {},
   "source": [
    "## Part 3.) Relationship with NP"
   ]
  },
  {
   "cell_type": "markdown",
   "id": "ed633afc",
   "metadata": {},
   "source": []
  },
  {
   "cell_type": "markdown",
   "id": "5a125843",
   "metadata": {},
   "source": [
    "## Part 4.) Differences between P and NP"
   ]
  },
  {
   "cell_type": "code",
   "execution_count": null,
   "id": "7c46f256",
   "metadata": {},
   "outputs": [],
   "source": []
  }
 ],
 "metadata": {
  "kernelspec": {
   "display_name": "Python 3 (ipykernel)",
   "language": "python",
   "name": "python3"
  },
  "language_info": {
   "codemirror_mode": {
    "name": "ipython",
    "version": 3
   },
   "file_extension": ".py",
   "mimetype": "text/x-python",
   "name": "python",
   "nbconvert_exporter": "python",
   "pygments_lexer": "ipython3",
   "version": "3.10.10"
  }
 },
 "nbformat": 4,
 "nbformat_minor": 5
}
