{
 "cells": [
  {
   "cell_type": "markdown",
   "id": "7f2ed0b6",
   "metadata": {},
   "source": [
    "# Theory of Algorithms 2023 Project"
   ]
  },
  {
   "cell_type": "markdown",
   "id": "62aa414c",
   "metadata": {},
   "source": [
    "## Part 1.) Description of Polynomial Time Complexity Class (P)"
   ]
  },
  {
   "cell_type": "markdown",
   "id": "6561c08e",
   "metadata": {},
   "source": [
    "The set of decision problems that can be solved by a deterministic Turing computer in polynomial time, or where the running time of the algorithm is constrained by a polynomial function of the input size, is known as the Polynomial Time Complexity Class, or P, in computational complexity theory."
   ]
  },
  {
   "cell_type": "markdown",
   "id": "1d28811d",
   "metadata": {},
   "source": [
    "## Part 2.) Problems with P"
   ]
  },
  {
   "cell_type": "markdown",
   "id": "12cf01fa",
   "metadata": {},
   "source": [
    "Some examples of problems in P are:\n",
    "\n",
    "- Determining whether a given integer is prime\n",
    "- Finding the shortest path between two nodes in a graph\n",
    "- Sorting a list of integers\n",
    "- Checking whether a given Boolean formula is satisfiable"
   ]
  },
  {
   "cell_type": "code",
   "execution_count": 8,
   "id": "01ce7a26",
   "metadata": {},
   "outputs": [
    {
     "name": "stdout",
     "output_type": "stream",
     "text": [
      "Enter an integer: 11\n",
      "11 is prime\n"
     ]
    }
   ],
   "source": [
    "def is_prime(n):\n",
    "    if n <= 1:\n",
    "        return False\n",
    "    elif n <= 3:\n",
    "        return True\n",
    "    elif n % 2 == 0 or n % 3 == 0:\n",
    "        return False\n",
    "    i = 5\n",
    "    while i * i <= n:\n",
    "        if n % i == 0 or n % (i + 2) == 0:\n",
    "            return False\n",
    "        i += 6\n",
    "    return True\n",
    "\n",
    "n = int(input(\"Enter an integer: \"))\n",
    "if is_prime(n):\n",
    "    print(n, \"is prime\")\n",
    "else:\n",
    "    print(n, \"is not prime\")\n"
   ]
  },
  {
   "cell_type": "markdown",
   "id": "bfc6c827",
   "metadata": {},
   "source": [
    "The is prime function takes an integer n, and if n is a prime number, returns True; otherwise, it returns False. The function initially determines whether n falls into one of two unique categories that are prime: less than or equal to 1 and less than or equal to 3. Following that, the function determines if n is divisible by the non-prime numbers 2 or 3. As all prime numbers higher than 3 may be expressed in the manner 6k 1, the function then tests odd integers from 5 up to the square root of n in increments of 6. Any of these odd numbers can divide n, proving that it is not a prime number."
   ]
  },
  {
   "cell_type": "code",
   "execution_count": 9,
   "id": "bfa20a6c",
   "metadata": {},
   "outputs": [
    {
     "name": "stdout",
     "output_type": "stream",
     "text": [
      "Shortest path from A to D : ['A', 'C', 'D']\n",
      "Distance: 5\n"
     ]
    }
   ],
   "source": [
    "import heapq\n",
    "\n",
    "def dijkstra(graph, start, end):\n",
    "    # Create a dictionary to store the distances from the start node to each node in the graph\n",
    "    distances = {node: float('inf') for node in graph}\n",
    "    distances[start] = 0\n",
    "\n",
    "    # Create a dictionary to store the previous node in the shortest path\n",
    "    previous_nodes = {node: None for node in graph}\n",
    "\n",
    "    # Create a priority queue to store the nodes to visit\n",
    "    pq = [(0, start)]\n",
    "\n",
    "    while len(pq) > 0:\n",
    "        # Get the node with the smallest distance from the start node\n",
    "        current_distance, current_node = heapq.heappop(pq)\n",
    "\n",
    "        # Stop if we have reached the end node\n",
    "        if current_node == end:\n",
    "            break\n",
    "\n",
    "        # Check the distances to the neighbors of the current node\n",
    "        for neighbor, weight in graph[current_node].items():\n",
    "            distance = current_distance + weight\n",
    "\n",
    "            # Update the distance and previous node if a shorter path is found\n",
    "            if distance < distances[neighbor]:\n",
    "                distances[neighbor] = distance\n",
    "                previous_nodes[neighbor] = current_node\n",
    "                heapq.heappush(pq, (distance, neighbor))\n",
    "\n",
    "    # Build the shortest path\n",
    "    path = []\n",
    "    current_node = end\n",
    "    while current_node is not None:\n",
    "        path.insert(0, current_node)\n",
    "        current_node = previous_nodes[current_node]\n",
    "\n",
    "    return path, distances[end]\n",
    "\n",
    "# Example usage\n",
    "graph = {\n",
    "    'A': {'B': 5, 'C': 3},\n",
    "    'B': {'A': 5, 'C': 1, 'D': 4},\n",
    "    'C': {'A': 3, 'B': 1, 'D': 2},\n",
    "    'D': {'B': 4, 'C': 2}\n",
    "}\n",
    "\n",
    "start = 'A'\n",
    "end = 'D'\n",
    "path, distance = dijkstra(graph, start, end)\n",
    "\n",
    "print(\"Shortest path from\", start, \"to\", end, \":\", path)\n",
    "print(\"Distance:\", distance)\n"
   ]
  },
  {
   "cell_type": "markdown",
   "id": "1b65cace",
   "metadata": {},
   "source": [
    "A weighted graph, a start node, and an end node are the inputs for the dijkstra function. The graph is represented as a dictionary of dictionaries. The function returns the shortest path and distance between the start node and the end node using Dijkstra's algorithm. The method keeps a list of nodes to visit in order of priority, sorted by distance from the start node. The method checks the distances to its neighbors after starting at the start node. If a shorter path is discovered, the neighbor is moved up in the priority queue and the distance and previous node are updated. When there are no more nodes to visit or when it reaches the end node, the algorithm terminates."
   ]
  },
  {
   "cell_type": "code",
   "execution_count": 3,
   "id": "48a24f2d",
   "metadata": {},
   "outputs": [
    {
     "data": {
      "text/plain": [
       "[1, 2, 4, 5, 7, 9]"
      ]
     },
     "execution_count": 3,
     "metadata": {},
     "output_type": "execute_result"
    }
   ],
   "source": [
    "def sort_list(lst):\n",
    "    lst.sort()\n",
    "    return lst\n",
    "\n",
    "lst = [4, 2, 7, 1, 9, 5]\n",
    "sort_list(lst)"
   ]
  },
  {
   "cell_type": "markdown",
   "id": "d2fa843f",
   "metadata": {},
   "source": [
    "This function takes an input of an integer list lst, sorts it using the sort method in non-decreasing order, and outputs the sorted list. The efficient sorting algorithm used by Python's sort method has an average-case running time of O(n log n), where n is the list's length. The function belongs to the class P because this algorithm runs in polynomial time."
   ]
  },
  {
   "cell_type": "code",
   "execution_count": 5,
   "id": "2e85d9d2",
   "metadata": {},
   "outputs": [],
   "source": [
    "def is_satisfiable(formula):\n",
    "    # Convert formula to conjunctive normal form (CNF)\n",
    "    cnf = to_cnf(formula)\n",
    "    \n",
    "    # Initialize a set of clauses and a model\n",
    "    clauses = set(cnf)\n",
    "    model = {}\n",
    "    \n",
    "    # Call the DPLL algorithm recursively\n",
    "    return dpll(clauses, model)\n",
    "    \n",
    "def dpll(clauses, model):\n",
    "    # If all clauses are True, return True\n",
    "    if not any(len(c) == 0 for c in clauses):\n",
    "        if len(clauses) == 0:\n",
    "            return True\n",
    "        else:\n",
    "            return dpll(clauses - {frozenset()}, model)\n",
    "    \n",
    "    # If any clause is False, return False\n",
    "    for clause in clauses:\n",
    "        if len(clause) == 1:\n",
    "            literal = next(iter(clause))\n",
    "            model[literal] = True\n",
    "            return dpll(update(clauses, literal), model)\n",
    "            \n",
    "    # Choose a literal and try both True and False values\n",
    "    literal = next(iter(clauses)).pop()\n",
    "    model_true = model.copy()\n",
    "    model_true[literal] = True\n",
    "    model_false = model.copy()\n",
    "    model_false[literal] = False\n",
    "    \n",
    "    # Call the DPLL algorithm recursively for both values\n",
    "    return dpll(update(clauses, literal), model_true) or \\\n",
    "           dpll(update(clauses, -literal), model_false)\n",
    "\n",
    "def to_cnf(formula):\n",
    "    # Convert formula to CNF using the Tseitin transformation\n",
    "    pass\n",
    "\n",
    "def update(clauses, literal):\n",
    "    # Update the clauses after assigning a literal\n",
    "    pass\n"
   ]
  },
  {
   "cell_type": "markdown",
   "id": "b0105122",
   "metadata": {},
   "source": [
    "As it can be accomplished in polynomial time, determining if a given Boolean formula is satisfiable belongs to the class P of problems. The Davis-Putnam-Logemann-Loveland (DPLL) algorithm, a successful backtracking technique, is one that can be utilized to resolve this issue. The DPLL approach is used in the following sample Python code to determine whether a given Boolean expression is satisfiable. This streamlined illustration illustrates the DPLL algorithm's fundamental architecture. The is satisfiable function accepts a Boolean formula as input, transforms it into CNF with the Tseitin transformation, and then recursively executes the DPLL method with an empty model. The DPLL algorithm, which employs backtracking to give literals values and update the clauses until a satisfying model is obtained or it is decided that there is no satisfying model, is implemented by the dpll function. The formula is converted to CNF using the to cnf function, and after a literal has been assigned, the clauses are updated using the update function."
   ]
  },
  {
   "cell_type": "code",
   "execution_count": 1,
   "id": "d2f6e7bd",
   "metadata": {},
   "outputs": [
    {
     "data": {
      "image/png": "[encoded data removed]",
      "text/plain": [
       "<Figure size 1200x400 with 3 Axes>"
      ]
     },
     "metadata": {},
     "output_type": "display_data"
    }
   ],
   "source": [
    "import numpy as np\n",
    "import matplotlib.pyplot as plt\n",
    "\n",
    "# Define a list of polynomial coefficients\n",
    "p1 = np.array([1, 0, 1])\n",
    "p2 = np.array([2, -3, 1])\n",
    "p3 = np.array([-1, 2, -3, 4])\n",
    "\n",
    "# Define the x range for the plots\n",
    "x = np.linspace(-5, 5, 100)\n",
    "\n",
    "# Evaluate the polynomials for each value of x\n",
    "y1 = np.polyval(p1, x)\n",
    "y2 = np.polyval(p2, x)\n",
    "y3 = np.polyval(p3, x)\n",
    "\n",
    "# Create a new figure with three subplots\n",
    "fig, (ax1, ax2, ax3) = plt.subplots(1, 3, figsize=(12, 4))\n",
    "\n",
    "# Plot the first polynomial\n",
    "ax1.plot(x, y1)\n",
    "ax1.set_title('y = x^2 + 1')\n",
    "ax1.set_xlabel('x')\n",
    "ax1.set_ylabel('y')\n",
    "\n",
    "# Plot the second polynomial\n",
    "ax2.plot(x, y2)\n",
    "ax2.set_title('y = 2x^2 - 3x + 1')\n",
    "ax2.set_xlabel('x')\n",
    "ax2.set_ylabel('y')\n",
    "\n",
    "# Plot the third polynomial\n",
    "ax3.plot(x, y3)\n",
    "ax3.set_title('y = -x^3 + 2x^2 - 3x + 4')\n",
    "ax3.set_xlabel('x')\n",
    "ax3.set_ylabel('y')\n",
    "\n",
    "# Display the plot\n",
    "plt.show()\n"
   ]
  },
  {
   "cell_type": "markdown",
   "id": "af97f9de",
   "metadata": {},
   "source": [
    "This program uses Numpy arrays to define three polynomials, evaluates them for a range of x values, then plots the results with Matplotlib's plot function. Three subplots are added to the figure using the subplots function, and each subplot has its own title, x-label, and y-label."
   ]
  },
  {
   "cell_type": "markdown",
   "id": "ff181f92",
   "metadata": {},
   "source": [
    "# Part 3.) Relationship with NP"
   ]
  },
  {
   "cell_type": "markdown",
   "id": "ed633afc",
   "metadata": {},
   "source": [
    "The complexity class P and the NP, a significant complexity class, are closely related (Nondeterministic Polynomial time). There is a polynomial time verifier for the collection of decision problems known as NP, which can be solved by a nondeterministic Turing machine in polynomial time.\n",
    "\n",
    "An algorithm known as a polynomial time verifier examines a potential solution to a problem to determine its validity. There is a polynomial time verifier that can check a putative solution in polynomial time if the problem is in NP.\n",
    "\n",
    "One of the most important unsolved issues in mathematics and computer science is the link between P and NP. If every problem in NP can be solved in polynomial time by a deterministic algorithm, then the question is whether P is equal to NP. Every issue for which a proposed solution can be verified in polynomial time can also be resolved in polynomial time if P and NP are equivalent. Therefore, if P is not equal to NP, then deterministic algorithms cannot solve any NP-complete problems in polynomial time.\n",
    "\n",
    "No one has been able to demonstrate either that P is not equal to NP or that P is equal to NP despite decades of research.It has ramifications for many fields, including cryptography, optimization, and machine learning, and is regarded as one of the most significant open issues in computer science and mathematics."
   ]
  },
  {
   "cell_type": "markdown",
   "id": "5a125843",
   "metadata": {},
   "source": [
    "## Part 4.) Differences between P and NP"
   ]
  },
  {
   "cell_type": "markdown",
   "id": "035613a5",
   "metadata": {},
   "source": [
    "The types of issues they represent and the computer resources necessary to solve them are the primary distinctions between the complexity classes P and NP. These are some significant variations between P and NP:\n",
    "\n",
    "- Time complexity: Decision problems of the class P can be resolved in polynomial time by a deterministic Turing machine, which means that the algorithm's execution time is constrained by a polynomial function of the input size. While the best known solution for answering choice issues on a deterministic machine requires exponential time, NP includes decision problems that can be solved by a nondeterministic Turing machine in polynomial time.\n",
    "\n",
    "- Verification vs. solution: In NP, a verifier algorithm can check a potential solution in polynomial time. In P, the method generates the answer in polynomial time by itself.\n",
    "\n",
    "- Certificates: Certificates are pieces of information that can be used to confirm that a prospective solution is accurate. They are frequently present in NP problems. The certificate is verified using a polynomial-time technique. P problems don't always have to have certifications.\n",
    "\n",
    "- Complexity hierarchy: The class P is a subset of NP, which indicates that every issue in P is also a problem in NP. It is unclear, nevertheless, whether P is a strict subset of NP or if it is the same as NP.\n",
    "\n",
    "- Practical implications: Many NP-based issues are thought to be computationally intractable, but many P-based problems can be easily solved in practice. For fields like machine learning, optimization, and cryptography, this has significant practical ramifications."
   ]
  }
 ],
 "metadata": {
  "kernelspec": {
   "display_name": "Python 3 (ipykernel)",
   "language": "python",
   "name": "python3"
  },
  "language_info": {
   "codemirror_mode": {
    "name": "ipython",
    "version": 3
   },
   "file_extension": ".py",
   "mimetype": "text/x-python",
   "name": "python",
   "nbconvert_exporter": "python",
   "pygments_lexer": "ipython3",
   "version": "3.10.10"
  }
 },
 "nbformat": 4,
 "nbformat_minor": 5
}
